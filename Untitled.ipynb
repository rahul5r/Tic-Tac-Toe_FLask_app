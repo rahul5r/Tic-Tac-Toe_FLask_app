{
 "cells": [
  {
   "cell_type": "code",
   "execution_count": 29,
   "id": "88d19974-25b0-439c-bdc4-5341d75ddbad",
   "metadata": {},
   "outputs": [],
   "source": [
    "board = [['O','X','O'],\n",
    "         ['X','O',' '],\n",
    "         ['X','X','O']]"
   ]
  },
  {
   "cell_type": "code",
   "execution_count": 17,
   "id": "73e8a000-39dc-4b1e-8f33-7b79b2985be8",
   "metadata": {},
   "outputs": [
    {
     "name": "stdout",
     "output_type": "stream",
     "text": [
      "[['O', 'X', 'O'], ['X', 'O', ' '], ['O', 'X', ' ']]\n",
      "[['O', 'X', 'O'], ['X', 'O', 'X'], ['O', ' ', ' ']]\n",
      "['O', 'O', ' ']\n",
      "['O', 'O', 'O']\n"
     ]
    }
   ],
   "source": [
    "count, row, column = 0,0,0\n",
    "# Check along rows\n",
    "rows = board\n",
    "columns = []\n",
    "diagonal1 = []\n",
    "diagonal2 = []\n",
    "for row in range(3):\n",
    "    diagonal2.append(board[row][2-row])\n",
    "    board_transpose = []\n",
    "    for i in board:\n",
    "        board_transpose.append(i[row])\n",
    "    columns.append(board_transpose)\n",
    "    for column in range(3):\n",
    "        if row==column:\n",
    "            diagonal1.append(board[row][column])\n",
    "print(rows)\n",
    "print(columns)\n",
    "print(diagonal1)\n",
    "print(diagonal2)"
   ]
  },
  {
   "cell_type": "code",
   "execution_count": 23,
   "id": "f6ff8d7d-db44-41ce-9abb-8314a23f85a7",
   "metadata": {},
   "outputs": [
    {
     "data": {
      "text/plain": [
       "['O', 'O', 'O']"
      ]
     },
     "execution_count": 23,
     "metadata": {},
     "output_type": "execute_result"
    }
   ],
   "source": [
    "diagonal2"
   ]
  },
  {
   "cell_type": "code",
   "execution_count": 24,
   "id": "f3114a69-16ae-42cd-9736-9ac4a7591a33",
   "metadata": {},
   "outputs": [
    {
     "data": {
      "text/plain": [
       "['O', 'O', 'O']"
      ]
     },
     "execution_count": 24,
     "metadata": {},
     "output_type": "execute_result"
    }
   ],
   "source": [
    "[turn,turn,turn]"
   ]
  },
  {
   "cell_type": "code",
   "execution_count": 25,
   "id": "074fb1f7-4ac2-43cd-bb15-b9051d22722c",
   "metadata": {},
   "outputs": [
    {
     "data": {
      "text/plain": [
       "True"
      ]
     },
     "execution_count": 25,
     "metadata": {},
     "output_type": "execute_result"
    }
   ],
   "source": [
    "turn = 'O'\n",
    "[turn,turn,turn] == diagonal2"
   ]
  },
  {
   "cell_type": "code",
   "execution_count": 30,
   "id": "16280b30-c8e9-418d-9667-6e34978cbdc5",
   "metadata": {},
   "outputs": [
    {
     "data": {
      "text/plain": [
       "True"
      ]
     },
     "execution_count": 30,
     "metadata": {},
     "output_type": "execute_result"
    }
   ],
   "source": [
    "checkWinner('O')"
   ]
  },
  {
   "cell_type": "code",
   "execution_count": 27,
   "id": "c069eef6-a8af-4113-a8d5-df91aac7a45c",
   "metadata": {},
   "outputs": [],
   "source": [
    "def checkWinner(turn):\n",
    "    count, row, column = 0, 0, 0\n",
    "    # Check along rows\n",
    "    rows = board\n",
    "    columns = []\n",
    "    diagonal1 = []\n",
    "    diagonal2 = []\n",
    "    for row in range(3):\n",
    "        diagonal2.append(board[row][2 - row])\n",
    "        board_transpose = []\n",
    "        for i in board:\n",
    "            board_transpose.append(i[row])\n",
    "        columns.append(board_transpose)\n",
    "        for column in range(3):\n",
    "            if row == column:\n",
    "                diagonal1.append(board[row][column])\n",
    "    if [turn,turn,turn] in rows+columns:\n",
    "        return True\n",
    "    elif [turn,turn,turn] == diagonal1:\n",
    "        return True\n",
    "    elif [turn,turn,turn] == diagonal2:\n",
    "        return True\n",
    "    return False"
   ]
  },
  {
   "cell_type": "code",
   "execution_count": 54,
   "id": "d0d1e591-e55d-423a-9295-c043bd90f501",
   "metadata": {},
   "outputs": [
    {
     "name": "stdout",
     "output_type": "stream",
     "text": [
      "[1, 4, 7]\n",
      "[2, 5, 8]\n",
      "[3, 6, 9]\n"
     ]
    }
   ],
   "source": [
    "arr_2d = [\n",
    "    [1, 2, 3],\n",
    "    [4, 5, 6],\n",
    "    [7, 8, 9]\n",
    "]\n",
    "\n",
    "transposed_arr = []\n",
    "for i in range(len(arr_2d[0])):\n",
    "    transposed_row = []\n",
    "    for row in arr_2d:\n",
    "        transposed_row.append(row[i])\n",
    "    transposed_arr.append(transposed_row)\n",
    "\n",
    "for row in transposed_arr:\n",
    "    print(row)\n"
   ]
  },
  {
   "cell_type": "code",
   "execution_count": 33,
   "id": "30cba0e8-a057-41ce-9e4c-35ab3127fe23",
   "metadata": {},
   "outputs": [
    {
     "name": "stdout",
     "output_type": "stream",
     "text": [
      "(1, 1, [1, 5, 9])\n",
      "(2, 4, [3, 5, 7])\n"
     ]
    }
   ],
   "source": [
    "for i in zip(rows, columns, [diagonal1, diagonal2]):\n",
    "    print(i)"
   ]
  },
  {
   "cell_type": "code",
   "execution_count": null,
   "id": "c330cf30-d4f1-4917-b6c1-a663a1438981",
   "metadata": {},
   "outputs": [],
   "source": []
  }
 ],
 "metadata": {
  "kernelspec": {
   "display_name": "Python 3 (ipykernel)",
   "language": "python",
   "name": "python3"
  },
  "language_info": {
   "codemirror_mode": {
    "name": "ipython",
    "version": 3
   },
   "file_extension": ".py",
   "mimetype": "text/x-python",
   "name": "python",
   "nbconvert_exporter": "python",
   "pygments_lexer": "ipython3",
   "version": "3.11.8"
  }
 },
 "nbformat": 4,
 "nbformat_minor": 5
}
